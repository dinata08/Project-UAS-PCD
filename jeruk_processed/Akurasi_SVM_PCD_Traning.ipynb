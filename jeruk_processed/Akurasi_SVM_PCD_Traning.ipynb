{
  "cells": [
    {
      "cell_type": "code",
      "execution_count": 1,
      "metadata": {
        "id": "PBz7ww6jpRtO"
      },
      "outputs": [],
      "source": [
        "# Import module yang akan digunakan\n",
        "import pandas as pd  \n",
        "from sklearn import svm\n",
        "from sklearn import metrics\n",
        "from sklearn.model_selection import train_test_split\n",
        "from sklearn.metrics import f1_score, precision_score, recall_score \n",
        "from sklearn.metrics import confusion_matrix\n",
        "import seaborn as sns"
      ]
    },
    {
      "cell_type": "code",
      "execution_count": 2,
      "metadata": {
        "id": "PGMgm8rHqyzZ"
      },
      "outputs": [],
      "source": [
        "dataset = pd.read_csv('data-training.csv')"
      ]
    },
    {
      "cell_type": "code",
      "execution_count": 3,
      "metadata": {
        "id": "gO5rJkEdq79c"
      },
      "outputs": [],
      "source": [
        "# Membagi data training dan testing\n",
        "X = dataset.drop('kelas', axis=1)  \n",
        "y = dataset['kelas']\n",
        "X_train, X_test, y_train, y_test = train_test_split(X, y, test_size = 0.10)"
      ]
    },
    {
      "cell_type": "code",
      "execution_count": 4,
      "metadata": {
        "id": "idqjAGteq93J"
      },
      "outputs": [],
      "source": [
        "# Inisiasi SVM\n",
        "cls = svm.SVC(kernel=\"linear\")\n",
        "\n",
        "# Membuat model\n",
        "cls.fit(X_train,y_train)\n",
        "\n",
        "# Melakukan prediksi / clasifikasi\n",
        "y_pred = cls.predict(X_test)"
      ]
    },
    {
      "cell_type": "code",
      "execution_count": 5,
      "metadata": {
        "colab": {
          "base_uri": "https://localhost:8080/",
          "height": 282
        },
        "id": "9fTW4-HOpK1_",
        "outputId": "eef50ab9-8bfa-44f8-c586-c40f67a1d42c"
      },
      "outputs": [
        {
          "data": {
            "text/plain": [
              "<AxesSubplot:>"
            ]
          },
          "execution_count": 5,
          "metadata": {},
          "output_type": "execute_result"
        },
        {
          "data": {
            "image/png": "[encoded data removed]",
            "text/plain": [
              "<Figure size 432x288 with 2 Axes>"
            ]
          },
          "metadata": {
            "needs_background": "light"
          },
          "output_type": "display_data"
        }
      ],
      "source": [
        "cf_matrix = confusion_matrix(y_test, y_pred)\n",
        "sns.heatmap(cf_matrix, annot=True)"
      ]
    },
    {
      "cell_type": "code",
      "execution_count": 7,
      "metadata": {
        "colab": {
          "base_uri": "https://localhost:8080/"
        },
        "id": "qQgzwm-Dop8j",
        "outputId": "82c10c2c-5cee-4ffc-9e93-c83b2a60c829"
      },
      "outputs": [
        {
          "name": "stdout",
          "output_type": "stream",
          "text": [
            "Recall:  97.7 %\n",
            "Precision:  87.6 %\n",
            "F1-Score:  92.3 %\n",
            "Accuracy: 87.0 %\n"
          ]
        }
      ],
      "source": [
        "print(\"Recall: \",round(recall_score(y_test, y_pred, pos_label='apple')*100,1), \"%\")\n",
        "print(\"Precision: \",round(precision_score(y_test, y_pred, pos_label='apple')*100,1), \"%\")\n",
        "print(\"F1-Score: \",round(f1_score(y_test, y_pred, pos_label='apple')*100,1), \"%\")\n",
        "print(\"Accuracy:\",round(metrics.accuracy_score(y_test, y_pred)*100,1), \"%\")"
      ]
    },
    {
      "cell_type": "code",
      "execution_count": 8,
      "metadata": {
        "colab": {
          "base_uri": "https://localhost:8080/"
        },
        "id": "wErLQQMJzunL",
        "outputId": "ee398abd-fdfc-444b-9d4b-9980fda7ecf7"
      },
      "outputs": [
        {
          "data": {
            "text/plain": [
              "['model.joblib']"
            ]
          },
          "execution_count": 8,
          "metadata": {},
          "output_type": "execute_result"
        }
      ],
      "source": [
        "#Save model\n",
        "from joblib import dump, load\n",
        "dump(cls, 'model.joblib')"
      ]
    }
  ],
  "metadata": {
    "colab": {
      "name": "Akurasi-SVM-PCD-Traning.ipynb",
      "provenance": []
    },
    "kernelspec": {
      "display_name": "Python 3",
      "name": "python3"
    },
    "language_info": {
      "codemirror_mode": {
        "name": "ipython",
        "version": 3
      },
      "file_extension": ".py",
      "mimetype": "text/x-python",
      "name": "python",
      "nbconvert_exporter": "python",
      "pygments_lexer": "ipython3",
      "version": "3.9.1"
    }
  },
  "nbformat": 4,
  "nbformat_minor": 0
}
