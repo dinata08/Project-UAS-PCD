{
  "cells": [
    {
      "cell_type": "code",
      "execution_count": 38,
      "metadata": {
        "id": "ww_ykBBvv4p5"
      },
      "outputs": [],
      "source": [
        "# Import module yang akan digunakan\n",
        "import pandas as pd  \n",
        "from sklearn.neighbors import KNeighborsClassifier\n",
        "from sklearn import metrics\n",
        "from sklearn.model_selection import train_test_split\n",
        "from sklearn.metrics import f1_score, precision_score, recall_score \n",
        "from sklearn.metrics import confusion_matrix\n",
        "import seaborn as sns\n",
        "from warnings import simplefilter\n",
        "# ignore all future warnings\n",
        "simplefilter(action='ignore', category=FutureWarning)"
      ]
    },
    {
      "cell_type": "code",
      "execution_count": 39,
      "metadata": {
        "id": "Phaq5jHywFnQ"
      },
      "outputs": [],
      "source": [
        "# Load dataset\n",
        "dataset = pd.read_csv('features.csv')"
      ]
    },
    {
      "cell_type": "code",
      "execution_count": 40,
      "metadata": {
        "id": "UICdEv_awf4Y"
      },
      "outputs": [
        {
          "data": {
            "text/plain": [
              "395    segar\n",
              "387    segar\n",
              "565    segar\n",
              "53     busuk\n",
              "77     busuk\n",
              "       ...  \n",
              "177    busuk\n",
              "428    segar\n",
              "575    segar\n",
              "4      busuk\n",
              "41     busuk\n",
              "Name: Label, Length: 148, dtype: object"
            ]
          },
          "execution_count": 40,
          "metadata": {},
          "output_type": "execute_result"
        }
      ],
      "source": [
        "# Membagi data training dan testing\n",
        "X = dataset.drop('Label', axis=1)  \n",
        "Y = dataset['Label']\n",
        "X_train, X_test, Y_train, Y_test = train_test_split(X, Y, test_size = 0.25)\n",
        "Y_test"
      ]
    },
    {
      "cell_type": "markdown",
      "metadata": {},
      "source": []
    },
    {
      "cell_type": "code",
      "execution_count": 41,
      "metadata": {
        "id": "-OgXgvVXwGB1"
      },
      "outputs": [],
      "source": [
        "# Inisiasi jumlah k pada kNN\n",
        "knn3 = KNeighborsClassifier(n_neighbors=3)\n",
        "knn5 = KNeighborsClassifier(n_neighbors=5)\n",
        "knn7 = KNeighborsClassifier(n_neighbors=7)"
      ]
    },
    {
      "cell_type": "code",
      "execution_count": 42,
      "metadata": {
        "id": "HBmmRTqiwY95"
      },
      "outputs": [
        {
          "data": {
            "text/plain": [
              "array(['segar', 'segar', 'segar', 'busuk', 'busuk', 'segar', 'segar',\n",
              "       'busuk', 'segar', 'segar', 'busuk', 'segar', 'segar', 'busuk',\n",
              "       'segar', 'segar', 'busuk', 'segar', 'segar', 'segar', 'segar',\n",
              "       'segar', 'busuk', 'busuk', 'busuk', 'segar', 'segar', 'busuk',\n",
              "       'busuk', 'segar', 'busuk', 'segar', 'busuk', 'segar', 'busuk',\n",
              "       'segar', 'segar', 'segar', 'segar', 'busuk', 'segar', 'segar',\n",
              "       'segar', 'segar', 'segar', 'segar', 'busuk', 'segar', 'segar',\n",
              "       'segar', 'segar', 'busuk', 'segar', 'busuk', 'busuk', 'segar',\n",
              "       'busuk', 'segar', 'segar', 'segar', 'segar', 'busuk', 'segar',\n",
              "       'segar', 'busuk', 'segar', 'busuk', 'busuk', 'busuk', 'segar',\n",
              "       'busuk', 'segar', 'segar', 'segar', 'segar', 'segar', 'segar',\n",
              "       'busuk', 'busuk', 'segar', 'segar', 'segar', 'segar', 'busuk',\n",
              "       'segar', 'busuk', 'segar', 'busuk', 'segar', 'segar', 'segar',\n",
              "       'segar', 'busuk', 'busuk', 'busuk', 'segar', 'busuk', 'segar',\n",
              "       'busuk', 'segar', 'segar', 'busuk', 'busuk', 'busuk', 'busuk',\n",
              "       'segar', 'busuk', 'segar', 'busuk', 'busuk', 'busuk', 'segar',\n",
              "       'segar', 'segar', 'segar', 'segar', 'segar', 'segar', 'segar',\n",
              "       'segar', 'busuk', 'segar', 'segar', 'segar', 'segar', 'busuk',\n",
              "       'segar', 'segar', 'segar', 'segar', 'segar', 'busuk', 'busuk',\n",
              "       'busuk', 'segar', 'busuk', 'segar', 'busuk', 'segar', 'busuk',\n",
              "       'busuk', 'segar', 'segar', 'busuk', 'segar', 'segar', 'busuk',\n",
              "       'busuk'], dtype=object)"
            ]
          },
          "execution_count": 42,
          "metadata": {},
          "output_type": "execute_result"
        }
      ],
      "source": [
        "# Train model menggunakan data training\n",
        "knn3.fit(X_train, Y_train)\n",
        "\n",
        "# Melakukan prediksi / klasifikasi\n",
        "Y_pred = knn3.predict(X_test)\n",
        "Y_pred"
      ]
    },
    {
      "cell_type": "code",
      "execution_count": 43,
      "metadata": {
        "id": "fCbDUly6w3JC"
      },
      "outputs": [],
      "source": [
        "# Train model menggunakan data training\n",
        "knn5.fit(X_train, y=Y_train)\n",
        "\n",
        "# Melakukan prediksi / klasifikasi\n",
        "Y_pred = knn5.predict(X_test)"
      ]
    },
    {
      "cell_type": "code",
      "execution_count": 44,
      "metadata": {
        "id": "DJohH4RexLrz"
      },
      "outputs": [],
      "source": [
        "# Train model menggunakan data training\n",
        "knn7.fit(X_train, Y_train)\n",
        "\n",
        "# Melakukan prediksi / klasifikasi\n",
        "Y_pred = knn7.predict(X_test)"
      ]
    },
    {
      "cell_type": "code",
      "execution_count": 45,
      "metadata": {
        "colab": {
          "base_uri": "https://localhost:8080/"
        },
        "id": "7ty3C0AoeRUV",
        "outputId": "27817885-6dae-4e84-b4ed-7bd563702077"
      },
      "outputs": [
        {
          "data": {
            "text/plain": [
              "395    segar\n",
              "387    segar\n",
              "565    segar\n",
              "53     busuk\n",
              "77     busuk\n",
              "       ...  \n",
              "177    busuk\n",
              "428    segar\n",
              "575    segar\n",
              "4      busuk\n",
              "41     busuk\n",
              "Name: Label, Length: 148, dtype: object"
            ]
          },
          "execution_count": 45,
          "metadata": {},
          "output_type": "execute_result"
        }
      ],
      "source": [
        "Y_test"
      ]
    },
    {
      "cell_type": "code",
      "execution_count": 46,
      "metadata": {
        "colab": {
          "base_uri": "https://localhost:8080/"
        },
        "id": "Sokw1SsgeSoO",
        "outputId": "4fb433db-53ae-4349-89cb-aae3a54585ee"
      },
      "outputs": [
        {
          "data": {
            "text/plain": [
              "array(['segar', 'segar', 'segar', 'busuk', 'busuk', 'segar', 'segar',\n",
              "       'busuk', 'segar', 'segar', 'busuk', 'segar', 'segar', 'busuk',\n",
              "       'segar', 'segar', 'busuk', 'segar', 'segar', 'segar', 'segar',\n",
              "       'segar', 'busuk', 'busuk', 'busuk', 'segar', 'segar', 'busuk',\n",
              "       'busuk', 'segar', 'busuk', 'segar', 'busuk', 'segar', 'busuk',\n",
              "       'segar', 'segar', 'busuk', 'segar', 'busuk', 'segar', 'segar',\n",
              "       'segar', 'segar', 'segar', 'segar', 'busuk', 'segar', 'segar',\n",
              "       'segar', 'segar', 'busuk', 'segar', 'busuk', 'busuk', 'segar',\n",
              "       'busuk', 'segar', 'segar', 'segar', 'segar', 'busuk', 'segar',\n",
              "       'segar', 'busuk', 'segar', 'busuk', 'busuk', 'busuk', 'segar',\n",
              "       'busuk', 'segar', 'segar', 'segar', 'segar', 'segar', 'segar',\n",
              "       'busuk', 'busuk', 'segar', 'busuk', 'segar', 'segar', 'busuk',\n",
              "       'segar', 'busuk', 'segar', 'busuk', 'segar', 'segar', 'segar',\n",
              "       'segar', 'busuk', 'busuk', 'busuk', 'segar', 'busuk', 'segar',\n",
              "       'busuk', 'busuk', 'segar', 'busuk', 'busuk', 'busuk', 'busuk',\n",
              "       'segar', 'busuk', 'segar', 'busuk', 'busuk', 'busuk', 'segar',\n",
              "       'segar', 'segar', 'segar', 'segar', 'segar', 'busuk', 'segar',\n",
              "       'segar', 'busuk', 'segar', 'segar', 'segar', 'segar', 'busuk',\n",
              "       'segar', 'busuk', 'segar', 'segar', 'segar', 'busuk', 'busuk',\n",
              "       'busuk', 'segar', 'busuk', 'segar', 'busuk', 'segar', 'busuk',\n",
              "       'busuk', 'segar', 'segar', 'busuk', 'segar', 'segar', 'busuk',\n",
              "       'busuk'], dtype=object)"
            ]
          },
          "execution_count": 46,
          "metadata": {},
          "output_type": "execute_result"
        }
      ],
      "source": [
        "Y_pred"
      ]
    },
    {
      "cell_type": "code",
      "execution_count": 47,
      "metadata": {
        "colab": {
          "base_uri": "https://localhost:8080/",
          "height": 282
        },
        "id": "IuzSEqZnuYoL",
        "outputId": "4a0f5840-4faa-40b8-b918-37ac415e16c8"
      },
      "outputs": [
        {
          "data": {
            "text/plain": [
              "<Axes: >"
            ]
          },
          "execution_count": 47,
          "metadata": {},
          "output_type": "execute_result"
        },
        {
          "data": {
            "image/png": "[encoded data removed]",
            "text/plain": [
              "<Figure size 640x480 with 2 Axes>"
            ]
          },
          "metadata": {},
          "output_type": "display_data"
        }
      ],
      "source": [
        "cf_matrix = confusion_matrix(Y_test, Y_pred)\n",
        "sns.heatmap(cf_matrix, annot=True)"
      ]
    },
    {
      "cell_type": "code",
      "execution_count": 48,
      "metadata": {
        "colab": {
          "base_uri": "https://localhost:8080/"
        },
        "id": "jTeSDorCxJXJ",
        "outputId": "ce7ae31d-ef4f-4e93-d092-c87de2382b4a"
      },
      "outputs": [
        {
          "name": "stdout",
          "output_type": "stream",
          "text": [
            "Recall:  98.3 %\n",
            "Precision:  93.4 %\n",
            "F1-Score:  95.8 %\n",
            "Accuracy: 96.6 %\n"
          ]
        }
      ],
      "source": [
        "print(\"Recall: \",round(recall_score(Y_test, Y_pred, pos_label='busuk')*100,1), \"%\")\n",
        "print(\"Precision: \",round(precision_score(Y_test, Y_pred, pos_label='busuk')*100,1), \"%\")\n",
        "print(\"F1-Score: \",round(f1_score(Y_test, Y_pred, pos_label='busuk')*100,1), \"%\")\n",
        "print(\"Accuracy:\",round(metrics.accuracy_score(Y_test, Y_pred)*100,1), \"%\")"
      ]
    },
    {
      "cell_type": "code",
      "execution_count": 49,
      "metadata": {},
      "outputs": [
        {
          "name": "stdout",
          "output_type": "stream",
          "text": [
            "Recall:  95.6 %\n",
            "Precision:  98.9 %\n",
            "F1-Score:  97.2 %\n",
            "Accuracy: 96.6 %\n"
          ]
        }
      ],
      "source": [
        "print(\"Recall: \",round(recall_score(Y_test, Y_pred, pos_label='segar')*100,1), \"%\")\n",
        "print(\"Precision: \",round(precision_score(Y_test, Y_pred, pos_label='segar')*100,1), \"%\")\n",
        "print(\"F1-Score: \",round(f1_score(Y_test, Y_pred, pos_label='segar')*100,1), \"%\")\n",
        "print(\"Accuracy:\",round(metrics.accuracy_score(Y_test, Y_pred)*100,1), \"%\")"
      ]
    }
  ],
  "metadata": {
    "colab": {
      "name": "Akurasi-kNN-PCD-Training.ipynb",
      "provenance": []
    },
    "kernelspec": {
      "display_name": "Python 3",
      "name": "python3"
    },
    "language_info": {
      "codemirror_mode": {
        "name": "ipython",
        "version": 3
      },
      "file_extension": ".py",
      "mimetype": "text/x-python",
      "name": "python",
      "nbconvert_exporter": "python",
      "pygments_lexer": "ipython3",
      "version": "3.11.4"
    }
  },
  "nbformat": 4,
  "nbformat_minor": 0
}
